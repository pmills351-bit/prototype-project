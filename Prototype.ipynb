{
 "cells": [
  {
   "cell_type": "code",
   "execution_count": 1,
   "id": "9eb37ae9-a9cb-46f5-af43-4483ba2927f8",
   "metadata": {},
   "outputs": [
    {
     "name": "stdout",
     "output_type": "stream",
     "text": [
      "NumPy: 2.3.2\n",
      "Pandas: 2.3.2\n",
      "✅ Prototype environment is ready\n"
     ]
    }
   ],
   "source": [
    "import numpy, pandas\n",
    "print(\"NumPy:\", numpy.__version__)\n",
    "print(\"Pandas:\", pandas.__version__)\n",
    "print(\"✅ Prototype environment is ready\")\n"
   ]
  },
  {
   "cell_type": "code",
   "execution_count": null,
   "id": "11993340-103c-43bc-834e-16f3b6058e94",
   "metadata": {},
   "outputs": [],
   "source": []
  }
 ],
 "metadata": {
  "kernelspec": {
   "display_name": "Python 3 (ipykernel)",
   "language": "python",
   "name": "python3"
  },
  "language_info": {
   "codemirror_mode": {
    "name": "ipython",
    "version": 3
   },
   "file_extension": ".py",
   "mimetype": "text/x-python",
   "name": "python",
   "nbconvert_exporter": "python",
   "pygments_lexer": "ipython3",
   "version": "3.11.13"
  }
 },
 "nbformat": 4,
 "nbformat_minor": 5
}
